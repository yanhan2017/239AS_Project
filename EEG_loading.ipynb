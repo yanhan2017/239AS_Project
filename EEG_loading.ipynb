{
 "cells": [
  {
   "cell_type": "code",
   "execution_count": 287,
   "metadata": {},
   "outputs": [],
   "source": [
    "import numpy as np\n",
    "from matplotlib import pyplot as plt"
   ]
  },
  {
   "cell_type": "code",
   "execution_count": 119,
   "metadata": {},
   "outputs": [],
   "source": [
    "import numpy as np\n",
    "X_test = np.load(\"X_test.npy\")\n",
    "y_test = np.load(\"y_test.npy\")\n",
    "person_train_valid = np.load(\"person_train_valid.npy\")\n",
    "X_train_valid = np.load(\"X_train_valid.npy\")\n",
    "y_train_valid = np.load(\"y_train_valid.npy\")\n",
    "person_test = np.load(\"person_test.npy\")\n"
   ]
  },
  {
   "cell_type": "code",
   "execution_count": 120,
   "metadata": {},
   "outputs": [],
   "source": [
    "y_train_valid = y_train_valid-769\n",
    "y_test = y_test-769"
   ]
  },
  {
   "cell_type": "code",
   "execution_count": 184,
   "metadata": {},
   "outputs": [],
   "source": [
    "X_train_valid = X_train_valid[:,:,:22].reshape(2115,1000,22)\n",
    "X_test = X_test[:,:,:22].reshape(443,1000,22)"
   ]
  },
  {
   "cell_type": "markdown",
   "metadata": {},
   "source": [
    "### Shape of data"
   ]
  },
  {
   "cell_type": "code",
   "execution_count": 185,
   "metadata": {},
   "outputs": [
    {
     "name": "stdout",
     "output_type": "stream",
     "text": [
      "Training/Valid data shape: (2115, 1000, 22)\n",
      "Test data shape: (443, 1000, 22)\n",
      "Training/Valid target shape: (2115,)\n",
      "Test target shape: (443,)\n",
      "Person train/valid shape: (2115, 1)\n",
      "Person test shape: (443, 1)\n"
     ]
    }
   ],
   "source": [
    "print ('Training/Valid data shape: {}'.format(X_train_valid.shape))\n",
    "print ('Test data shape: {}'.format(X_test.shape))\n",
    "print ('Training/Valid target shape: {}'.format(y_train_valid.shape))\n",
    "print ('Test target shape: {}'.format(y_test.shape))\n",
    "print ('Person train/valid shape: {}'.format(person_train_valid.shape))\n",
    "print ('Person test shape: {}'.format(person_test.shape))\n"
   ]
  },
  {
   "cell_type": "markdown",
   "metadata": {},
   "source": [
    "### Start"
   ]
  },
  {
   "cell_type": "code",
   "execution_count": 265,
   "metadata": {},
   "outputs": [],
   "source": [
    "from keras.models import Sequential\n",
    "from keras.layers.core import Dense,Activation,Flatten,Dropout\n",
    "from keras.layers import LSTM,Conv1D,MaxPooling1D,RNN,TimeDistributed,BatchNormalization,GRU\n",
    "from keras.optimizers import SGD"
   ]
  },
  {
   "cell_type": "code",
   "execution_count": 280,
   "metadata": {},
   "outputs": [
    {
     "name": "stdout",
     "output_type": "stream",
     "text": [
      "(None, 4)\n"
     ]
    }
   ],
   "source": [
    "model = Sequential()\n",
    "conv_layer = Conv1D(filters=100,kernel_size=3,data_format=\"channels_last\",\n",
    "                 activation='relu')\n",
    "max_pool = MaxPooling1D(pool_size=2,strides=2,data_format=\"channels_last\")\n",
    "model.add(Conv1D(filters=100,kernel_size=3,data_format=\"channels_last\",\n",
    "                 activation='relu',input_shape=(1000,22)))#(100,998)\n",
    "model.add(conv_layer) #(100,996)\n",
    "model.add(max_pool) #(100,498)\n",
    "model.add(conv_layer) #100,496\n",
    "model.add(conv_layer) #100,494\n",
    "model.add(max_pool) #100,247\n",
    "model.add(conv_layer) #100,245\n",
    "model.add(conv_layer) #100,243\n",
    "model.add(max_pool) #100,122\n",
    "model.add(conv_layer) #100,120\n",
    "model.add(conv_layer) #100,118\n",
    "model.add(max_pool) #100,59\n",
    "model.add(Dense(units=52,use_bias=True,activation='relu')) #100*59,4\n",
    "model.add(Dropout(0.5))\n",
    "model.add(Flatten(data_format=\"channels_last\"))\n",
    "model.add(Dense(units=4,use_bias=True,activation='softmax'))\n",
    "print model.output_shape"
   ]
  },
  {
   "cell_type": "code",
   "execution_count": 281,
   "metadata": {},
   "outputs": [],
   "source": [
    "model.compile(loss='sparse_categorical_crossentropy', optimizer='adam', metrics=['sparse_categorical_accuracy'])"
   ]
  },
  {
   "cell_type": "code",
   "execution_count": 282,
   "metadata": {
    "scrolled": true
   },
   "outputs": [
    {
     "name": "stdout",
     "output_type": "stream",
     "text": [
      "Train on 1903 samples, validate on 212 samples\n",
      "Epoch 1/10\n",
      " - 40s - loss: 1.5257 - sparse_categorical_accuracy: 0.2606 - val_loss: 1.3880 - val_sparse_categorical_accuracy: 0.2217\n",
      "Epoch 2/10\n",
      " - 33s - loss: 1.3867 - sparse_categorical_accuracy: 0.2585 - val_loss: 1.3875 - val_sparse_categorical_accuracy: 0.2311\n",
      "Epoch 3/10\n",
      " - 29s - loss: 1.3859 - sparse_categorical_accuracy: 0.2507 - val_loss: 1.3855 - val_sparse_categorical_accuracy: 0.2594\n",
      "Epoch 4/10\n",
      " - 28s - loss: 1.3859 - sparse_categorical_accuracy: 0.2622 - val_loss: 1.3861 - val_sparse_categorical_accuracy: 0.2547\n",
      "Epoch 5/10\n",
      " - 26s - loss: 1.3854 - sparse_categorical_accuracy: 0.2754 - val_loss: 1.3859 - val_sparse_categorical_accuracy: 0.2500\n",
      "Epoch 6/10\n",
      " - 27s - loss: 1.3847 - sparse_categorical_accuracy: 0.2780 - val_loss: 1.3860 - val_sparse_categorical_accuracy: 0.2358\n",
      "Epoch 7/10\n",
      " - 25s - loss: 1.3839 - sparse_categorical_accuracy: 0.2612 - val_loss: 1.3867 - val_sparse_categorical_accuracy: 0.2217\n",
      "Epoch 8/10\n",
      " - 26s - loss: 1.3831 - sparse_categorical_accuracy: 0.2811 - val_loss: 1.3856 - val_sparse_categorical_accuracy: 0.2547\n",
      "Epoch 9/10\n",
      " - 24s - loss: 1.3801 - sparse_categorical_accuracy: 0.3037 - val_loss: 1.3874 - val_sparse_categorical_accuracy: 0.2594\n",
      "Epoch 10/10\n",
      " - 24s - loss: 1.3791 - sparse_categorical_accuracy: 0.2927 - val_loss: 1.3851 - val_sparse_categorical_accuracy: 0.2547\n"
     ]
    }
   ],
   "source": [
    "history_CNN=model.fit(X_train_valid,y_train_valid,epochs=10,batch_size=200,verbose=2,validation_split = 0.1)"
   ]
  },
  {
   "cell_type": "code",
   "execution_count": 283,
   "metadata": {},
   "outputs": [
    {
     "name": "stdout",
     "output_type": "stream",
     "text": [
      "443/443 [==============================] - 2s 5ms/step\n",
      "[1.3818096027417324, 0.2641083517744633]\n"
     ]
    }
   ],
   "source": [
    "model_evaluate=model.evaluate(X_test,y_test)\n",
    "print (model_evaluate)"
   ]
  },
  {
   "cell_type": "code",
   "execution_count": 284,
   "metadata": {},
   "outputs": [],
   "source": [
    "CNN_model=model"
   ]
  },
  {
   "cell_type": "code",
   "execution_count": 233,
   "metadata": {},
   "outputs": [],
   "source": [
    "model = Sequential()\n",
    "lstm = LSTM(units=4,use_bias=False,return_sequences=True)\n",
    "model.add(Dropout(0.5))\n",
    "model.add(LSTM(units=4,use_bias=False,return_sequences=True,input_shape=(1000,22)))\n",
    "model.add(lstm)\n",
    "# model.add(lstm)\n",
    "# model.add(lstm)\n",
    "# print model.output_shape\n",
    "model.add(Dense(units=52,use_bias=True,activation='relu'))\n",
    "model.add(Dropout(0.5))\n",
    "model.add(Flatten())\n",
    "model.add(Dense(units=4,use_bias=True,activation='softmax'))"
   ]
  },
  {
   "cell_type": "code",
   "execution_count": 234,
   "metadata": {},
   "outputs": [],
   "source": [
    "model.compile(loss='sparse_categorical_crossentropy', optimizer='adam', metrics=['sparse_categorical_accuracy'])"
   ]
  },
  {
   "cell_type": "code",
   "execution_count": 235,
   "metadata": {
    "collapsed": true
   },
   "outputs": [
    {
     "name": "stdout",
     "output_type": "stream",
     "text": [
      "Train on 1903 samples, validate on 212 samples\n",
      "Epoch 1/10\n",
      "1903/1903 [==============================] - 243s 128ms/step - loss: 1.3781 - sparse_categorical_accuracy: 0.3085 - acc: 0.3085 - val_loss: 1.3120 - val_sparse_categorical_accuracy: 0.3585 - val_acc: 0.3585\n",
      "Epoch 2/10\n",
      "1903/1903 [==============================] - 239s 126ms/step - loss: 1.2635 - sparse_categorical_accuracy: 0.4283 - acc: 0.4283 - val_loss: 1.2087 - val_sparse_categorical_accuracy: 0.4340 - val_acc: 0.4340\n",
      "Epoch 3/10\n",
      "1903/1903 [==============================] - 236s 124ms/step - loss: 1.1524 - sparse_categorical_accuracy: 0.4950 - acc: 0.4950 - val_loss: 1.0636 - val_sparse_categorical_accuracy: 0.5425 - val_acc: 0.5425\n",
      "Epoch 4/10\n",
      "1903/1903 [==============================] - 237s 125ms/step - loss: 1.0523 - sparse_categorical_accuracy: 0.5528 - acc: 0.5528 - val_loss: 0.9994 - val_sparse_categorical_accuracy: 0.5566 - val_acc: 0.5566\n",
      "Epoch 5/10\n",
      "1903/1903 [==============================] - 236s 124ms/step - loss: 0.9987 - sparse_categorical_accuracy: 0.5833 - acc: 0.5833 - val_loss: 1.0166 - val_sparse_categorical_accuracy: 0.5613 - val_acc: 0.5613\n",
      "Epoch 6/10\n",
      "1903/1903 [==============================] - 236s 124ms/step - loss: 0.9595 - sparse_categorical_accuracy: 0.6064 - acc: 0.6064 - val_loss: 1.0383 - val_sparse_categorical_accuracy: 0.5566 - val_acc: 0.5566\n",
      "Epoch 7/10\n",
      "1903/1903 [==============================] - 236s 124ms/step - loss: 0.9258 - sparse_categorical_accuracy: 0.6127 - acc: 0.6127 - val_loss: 1.0299 - val_sparse_categorical_accuracy: 0.5660 - val_acc: 0.5660\n",
      "Epoch 8/10\n",
      "1903/1903 [==============================] - 237s 124ms/step - loss: 0.8817 - sparse_categorical_accuracy: 0.6364 - acc: 0.6364 - val_loss: 1.0166 - val_sparse_categorical_accuracy: 0.5943 - val_acc: 0.5943\n",
      "Epoch 9/10\n",
      "1903/1903 [==============================] - 237s 124ms/step - loss: 0.8417 - sparse_categorical_accuracy: 0.6553 - acc: 0.6553 - val_loss: 1.0500 - val_sparse_categorical_accuracy: 0.5991 - val_acc: 0.5991\n",
      "Epoch 10/10\n",
      "1903/1903 [==============================] - 236s 124ms/step - loss: 0.8335 - sparse_categorical_accuracy: 0.6616 - acc: 0.6616 - val_loss: 1.0289 - val_sparse_categorical_accuracy: 0.5849 - val_acc: 0.5849\n"
     ]
    }
   ],
   "source": [
    "history_RNN=model.fit(X_train_valid,y_train_valid,epochs=10,batch_size=100,verbose=1,validation_split = 0.1)"
   ]
  },
  {
   "cell_type": "code",
   "execution_count": 236,
   "metadata": {},
   "outputs": [
    {
     "name": "stdout",
     "output_type": "stream",
     "text": [
      "443/443 [==============================] - 4s 8ms/step\n"
     ]
    }
   ],
   "source": [
    "RNN_evaluate=model.evaluate(X_test,y_test)"
   ]
  },
  {
   "cell_type": "code",
   "execution_count": 239,
   "metadata": {},
   "outputs": [
    {
     "name": "stdout",
     "output_type": "stream",
     "text": [
      "['loss', 'sparse_categorical_accuracy', 'acc'] [0.9881272500309395, 0.6049661415694261, 0.6049661415694261]\n"
     ]
    }
   ],
   "source": [
    "print model.metrics_names,RNN_evaluate"
   ]
  },
  {
   "cell_type": "code",
   "execution_count": 240,
   "metadata": {},
   "outputs": [],
   "source": [
    "RNN_model1 = model"
   ]
  },
  {
   "cell_type": "code",
   "execution_count": 275,
   "metadata": {},
   "outputs": [],
   "source": [
    "model = Sequential()\n",
    "lstm = LSTM(units=10,use_bias=False,return_sequences=True)\n",
    "model.add(Dropout(0.5))\n",
    "model.add(LSTM(units=10,use_bias=False,return_sequences=True,input_shape=(1000,22)))\n",
    "model.add(lstm)\n",
    "model.add(lstm)\n",
    "model.add(lstm)\n",
    "# print model.output_shape\n",
    "model.add(Dense(units=52,use_bias=True,activation='relu'))\n",
    "model.add(Dropout(0.5))\n",
    "model.add(Flatten())\n",
    "model.add(Dense(units=4,use_bias=True,activation='softmax'))"
   ]
  },
  {
   "cell_type": "code",
   "execution_count": 276,
   "metadata": {
    "collapsed": true
   },
   "outputs": [
    {
     "name": "stdout",
     "output_type": "stream",
     "text": [
      "Train on 1903 samples, validate on 212 samples\n",
      "Epoch 1/10\n",
      "1903/1903 [==============================] - 56s 29ms/step - loss: 1.3869 - sparse_categorical_accuracy: 0.2433 - val_loss: 1.3862 - val_sparse_categorical_accuracy: 0.2311\n",
      "Epoch 2/10\n",
      "1903/1903 [==============================] - 49s 26ms/step - loss: 1.3853 - sparse_categorical_accuracy: 0.2706 - val_loss: 1.3858 - val_sparse_categorical_accuracy: 0.2217\n",
      "Epoch 3/10\n",
      "1903/1903 [==============================] - 49s 26ms/step - loss: 1.3857 - sparse_categorical_accuracy: 0.2517 - val_loss: 1.3826 - val_sparse_categorical_accuracy: 0.2925\n",
      "Epoch 4/10\n",
      "1903/1903 [==============================] - 45s 24ms/step - loss: 1.3802 - sparse_categorical_accuracy: 0.3153 - val_loss: 1.3833 - val_sparse_categorical_accuracy: 0.2594\n",
      "Epoch 5/10\n",
      "1903/1903 [==============================] - 41s 22ms/step - loss: 1.3747 - sparse_categorical_accuracy: 0.3095 - val_loss: 1.3893 - val_sparse_categorical_accuracy: 0.3160\n",
      "Epoch 6/10\n",
      "1903/1903 [==============================] - 40s 21ms/step - loss: 1.3665 - sparse_categorical_accuracy: 0.3295 - val_loss: 1.3932 - val_sparse_categorical_accuracy: 0.2925\n",
      "Epoch 7/10\n",
      "1903/1903 [==============================] - 40s 21ms/step - loss: 1.3540 - sparse_categorical_accuracy: 0.3347 - val_loss: 1.4049 - val_sparse_categorical_accuracy: 0.2736\n",
      "Epoch 8/10\n",
      "1903/1903 [==============================] - 42s 22ms/step - loss: 1.3467 - sparse_categorical_accuracy: 0.3368 - val_loss: 1.4087 - val_sparse_categorical_accuracy: 0.2736\n",
      "Epoch 9/10\n",
      "1903/1903 [==============================] - 42s 22ms/step - loss: 1.3294 - sparse_categorical_accuracy: 0.3757 - val_loss: 1.3996 - val_sparse_categorical_accuracy: 0.2830\n",
      "Epoch 10/10\n",
      "1903/1903 [==============================] - 41s 21ms/step - loss: 1.3124 - sparse_categorical_accuracy: 0.3873 - val_loss: 1.3935 - val_sparse_categorical_accuracy: 0.2877\n"
     ]
    }
   ],
   "source": [
    "model.compile(loss='sparse_categorical_crossentropy', optimizer='adam', metrics=['sparse_categorical_accuracy'])\n",
    "history_RNN2=model.fit(X_train_valid,y_train_valid,epochs=10,batch_size=200,verbose=1,validation_split = 0.1)"
   ]
  },
  {
   "cell_type": "code",
   "execution_count": 277,
   "metadata": {},
   "outputs": [
    {
     "name": "stdout",
     "output_type": "stream",
     "text": [
      "443/443 [==============================] - 8s 18ms/step\n",
      "['loss', 'sparse_categorical_accuracy'] [1.354259140873601, 0.3792325057778886]\n"
     ]
    }
   ],
   "source": [
    "RNN2_evaluate=model.evaluate(X_test,y_test)\n",
    "print model.metrics_names,RNN2_evaluate"
   ]
  },
  {
   "cell_type": "code",
   "execution_count": 278,
   "metadata": {},
   "outputs": [],
   "source": [
    "RNN_model2 = model"
   ]
  },
  {
   "cell_type": "code",
   "execution_count": 295,
   "metadata": {},
   "outputs": [],
   "source": [
    "model = Sequential()\n",
    "lstm = LSTM(units=10,use_bias=False,return_sequences=True,dropout=0.5)\n",
    "# model.add(Dropout(0.5))\n",
    "model.add(LSTM(units=10,use_bias=False,return_sequences=True,input_shape=(1000,22)))\n",
    "model.add(lstm)\n",
    "model.add(lstm)\n",
    "model.add(lstm)\n",
    "model.add(lstm)\n",
    "# print model.output_shape\n",
    "model.add(Dense(units=52,use_bias=True,activation='relu'))\n",
    "model.add(Dropout(0.5))\n",
    "model.add(Flatten())\n",
    "model.add(Dense(units=4,use_bias=True,activation='softmax'))"
   ]
  },
  {
   "cell_type": "code",
   "execution_count": 296,
   "metadata": {},
   "outputs": [
    {
     "name": "stdout",
     "output_type": "stream",
     "text": [
      "Train on 1903 samples, validate on 212 samples\n",
      "Epoch 1/10\n",
      "1903/1903 [==============================] - 56s 29ms/step - loss: 1.3869 - sparse_categorical_accuracy: 0.2459 - val_loss: 1.3859 - val_sparse_categorical_accuracy: 0.2689\n",
      "Epoch 2/10\n",
      "1903/1903 [==============================] - 40s 21ms/step - loss: 1.3862 - sparse_categorical_accuracy: 0.2480 - val_loss: 1.3861 - val_sparse_categorical_accuracy: 0.2547\n",
      "Epoch 3/10\n",
      "1903/1903 [==============================] - 40s 21ms/step - loss: 1.3851 - sparse_categorical_accuracy: 0.2780 - val_loss: 1.3852 - val_sparse_categorical_accuracy: 0.2783\n",
      "Epoch 4/10\n",
      "1903/1903 [==============================] - 39s 21ms/step - loss: 1.3827 - sparse_categorical_accuracy: 0.2769 - val_loss: 1.3840 - val_sparse_categorical_accuracy: 0.2877\n",
      "Epoch 5/10\n",
      "1903/1903 [==============================] - 39s 21ms/step - loss: 1.3807 - sparse_categorical_accuracy: 0.2743 - val_loss: 1.3811 - val_sparse_categorical_accuracy: 0.3160\n",
      "Epoch 6/10\n",
      "1903/1903 [==============================] - 40s 21ms/step - loss: 1.3740 - sparse_categorical_accuracy: 0.3127 - val_loss: 1.3677 - val_sparse_categorical_accuracy: 0.3538\n",
      "Epoch 7/10\n",
      "1903/1903 [==============================] - 39s 21ms/step - loss: 1.3560 - sparse_categorical_accuracy: 0.3358 - val_loss: 1.3319 - val_sparse_categorical_accuracy: 0.4057\n",
      "Epoch 8/10\n",
      "1903/1903 [==============================] - 84s 44ms/step - loss: 1.3419 - sparse_categorical_accuracy: 0.3531 - val_loss: 1.2798 - val_sparse_categorical_accuracy: 0.4340\n",
      "Epoch 9/10\n",
      "1903/1903 [==============================] - 45s 23ms/step - loss: 1.3229 - sparse_categorical_accuracy: 0.3957 - val_loss: 1.2186 - val_sparse_categorical_accuracy: 0.4906\n",
      "Epoch 10/10\n",
      "1903/1903 [==============================] - 44s 23ms/step - loss: 1.2887 - sparse_categorical_accuracy: 0.4199 - val_loss: 1.1496 - val_sparse_categorical_accuracy: 0.5566\n"
     ]
    }
   ],
   "source": [
    "model.compile(loss='sparse_categorical_crossentropy', optimizer='adam', metrics=['sparse_categorical_accuracy'])\n",
    "history_RNN3=model.fit(X_train_valid,y_train_valid,epochs=10,batch_size=200,verbose=1,validation_split = 0.1)"
   ]
  },
  {
   "cell_type": "code",
   "execution_count": 297,
   "metadata": {},
   "outputs": [
    {
     "name": "stdout",
     "output_type": "stream",
     "text": [
      "443/443 [==============================] - 9s 21ms/step\n",
      "['loss', 'sparse_categorical_accuracy'] [1.1829827391536187, 0.5124153491471206]\n"
     ]
    }
   ],
   "source": [
    "RNN3_evaluate=model.evaluate(X_test,y_test)\n",
    "print model.metrics_names,RNN3_evaluate\n",
    "RNN_model3=model"
   ]
  },
  {
   "cell_type": "code",
   "execution_count": 298,
   "metadata": {},
   "outputs": [],
   "source": [
    "model = Sequential()\n",
    "lstm = LSTM(units=50,use_bias=False,return_sequences=True,dropout=0.5)\n",
    "# model.add(Dropout(0.5))\n",
    "model.add(LSTM(units=50,use_bias=False,return_sequences=True,input_shape=(1000,22)))\n",
    "model.add(lstm)\n",
    "model.add(lstm)\n",
    "model.add(lstm)\n",
    "model.add(lstm)\n",
    "# print model.output_shape\n",
    "model.add(Dense(units=52,use_bias=True,activation='relu'))\n",
    "model.add(Dropout(0.5))\n",
    "model.add(Flatten())\n",
    "model.add(Dense(units=4,use_bias=True,activation='softmax'))"
   ]
  },
  {
   "cell_type": "code",
   "execution_count": 299,
   "metadata": {},
   "outputs": [
    {
     "name": "stdout",
     "output_type": "stream",
     "text": [
      "Train on 1903 samples, validate on 212 samples\n",
      "Epoch 1/10\n",
      "1903/1903 [==============================] - 123s 65ms/step - loss: 1.3869 - sparse_categorical_accuracy: 0.2570 - val_loss: 1.3844 - val_sparse_categorical_accuracy: 0.2689\n",
      "Epoch 2/10\n",
      "1903/1903 [==============================] - 98s 52ms/step - loss: 1.3853 - sparse_categorical_accuracy: 0.2733 - val_loss: 1.3837 - val_sparse_categorical_accuracy: 0.2311\n",
      "Epoch 3/10\n",
      "1903/1903 [==============================] - 95s 50ms/step - loss: 1.3769 - sparse_categorical_accuracy: 0.3100 - val_loss: 1.3706 - val_sparse_categorical_accuracy: 0.4198\n",
      "Epoch 4/10\n",
      "1903/1903 [==============================] - 97s 51ms/step - loss: 1.3621 - sparse_categorical_accuracy: 0.3321 - val_loss: 1.3054 - val_sparse_categorical_accuracy: 0.4528\n",
      "Epoch 5/10\n",
      "1903/1903 [==============================] - 102s 54ms/step - loss: 1.2992 - sparse_categorical_accuracy: 0.4088 - val_loss: 1.2257 - val_sparse_categorical_accuracy: 0.4292\n",
      "Epoch 6/10\n",
      "1903/1903 [==============================] - 92s 48ms/step - loss: 1.2225 - sparse_categorical_accuracy: 0.4724 - val_loss: 1.0964 - val_sparse_categorical_accuracy: 0.4858\n",
      "Epoch 7/10\n",
      "1903/1903 [==============================] - 85s 45ms/step - loss: 1.1571 - sparse_categorical_accuracy: 0.5102 - val_loss: 1.0224 - val_sparse_categorical_accuracy: 0.5472\n",
      "Epoch 8/10\n",
      "1903/1903 [==============================] - 1407s 739ms/step - loss: 1.0830 - sparse_categorical_accuracy: 0.5523 - val_loss: 1.0038 - val_sparse_categorical_accuracy: 0.5613\n",
      "Epoch 9/10\n",
      "1903/1903 [==============================] - 103s 54ms/step - loss: 1.0632 - sparse_categorical_accuracy: 0.5686 - val_loss: 0.9394 - val_sparse_categorical_accuracy: 0.5849\n",
      "Epoch 10/10\n",
      "1903/1903 [==============================] - 106s 56ms/step - loss: 1.0215 - sparse_categorical_accuracy: 0.5833 - val_loss: 0.9523 - val_sparse_categorical_accuracy: 0.6132\n"
     ]
    }
   ],
   "source": [
    "model.compile(loss='sparse_categorical_crossentropy', optimizer='adam', metrics=['sparse_categorical_accuracy'])\n",
    "history_RNN4=model.fit(X_train_valid,y_train_valid,epochs=10,batch_size=200,verbose=1,validation_split = 0.1)"
   ]
  },
  {
   "cell_type": "code",
   "execution_count": 301,
   "metadata": {},
   "outputs": [
    {
     "name": "stdout",
     "output_type": "stream",
     "text": [
      "443/443 [==============================] - 9s 20ms/step\n",
      "['loss', 'sparse_categorical_accuracy'] [1.070020885015449, 0.5688487573886294]\n"
     ]
    }
   ],
   "source": [
    "RNN4_evaluate=model.evaluate(X_test,y_test)\n",
    "print model.metrics_names,RNN4_evaluate\n",
    "RNN_model4=model"
   ]
  },
  {
   "cell_type": "code",
   "execution_count": 302,
   "metadata": {},
   "outputs": [],
   "source": [
    "model = Sequential()\n",
    "lstm = LSTM(units=50,use_bias=False,return_sequences=True,dropout=0.5)\n",
    "# model.add(Dropout(0.5))\n",
    "model.add(LSTM(units=50,use_bias=False,return_sequences=True,input_shape=(1000,22)))\n",
    "model.add(lstm)\n",
    "model.add(lstm)\n",
    "model.add(lstm)\n",
    "model.add(lstm)\n",
    "# print model.output_shape\n",
    "model.add(Dense(units=52,use_bias=False,activation='relu'))\n",
    "model.add(Dropout(0.5))\n",
    "model.add(Flatten())\n",
    "model.add(Dense(units=4,use_bias=False,activation='softmax'))"
   ]
  },
  {
   "cell_type": "code",
   "execution_count": 303,
   "metadata": {},
   "outputs": [
    {
     "name": "stdout",
     "output_type": "stream",
     "text": [
      "Train on 1903 samples, validate on 212 samples\n",
      "Epoch 1/10\n",
      "1903/1903 [==============================] - 110s 58ms/step - loss: 1.3886 - sparse_categorical_accuracy: 0.2412 - val_loss: 1.3862 - val_sparse_categorical_accuracy: 0.2311\n",
      "Epoch 2/10\n",
      "1903/1903 [==============================] - 82s 43ms/step - loss: 1.3848 - sparse_categorical_accuracy: 0.2533 - val_loss: 1.3830 - val_sparse_categorical_accuracy: 0.3208\n",
      "Epoch 3/10\n",
      "1903/1903 [==============================] - 96s 50ms/step - loss: 1.3816 - sparse_categorical_accuracy: 0.2743 - val_loss: 1.3759 - val_sparse_categorical_accuracy: 0.3396\n",
      "Epoch 4/10\n",
      "1903/1903 [==============================] - 99s 52ms/step - loss: 1.3693 - sparse_categorical_accuracy: 0.3106 - val_loss: 1.3503 - val_sparse_categorical_accuracy: 0.3821\n",
      "Epoch 5/10\n",
      "1903/1903 [==============================] - 117s 62ms/step - loss: 1.3249 - sparse_categorical_accuracy: 0.3736 - val_loss: 1.2402 - val_sparse_categorical_accuracy: 0.4481\n",
      "Epoch 6/10\n",
      "1903/1903 [==============================] - 134s 70ms/step - loss: 1.2417 - sparse_categorical_accuracy: 0.4530 - val_loss: 1.1714 - val_sparse_categorical_accuracy: 0.4575\n",
      "Epoch 7/10\n",
      "1903/1903 [==============================] - 125s 66ms/step - loss: 1.1712 - sparse_categorical_accuracy: 0.4840 - val_loss: 1.0311 - val_sparse_categorical_accuracy: 0.5802\n",
      "Epoch 8/10\n",
      "1903/1903 [==============================] - 94s 50ms/step - loss: 1.0767 - sparse_categorical_accuracy: 0.5596 - val_loss: 0.9674 - val_sparse_categorical_accuracy: 0.6132\n",
      "Epoch 9/10\n",
      "1903/1903 [==============================] - 100s 52ms/step - loss: 1.0432 - sparse_categorical_accuracy: 0.5749 - val_loss: 0.9831 - val_sparse_categorical_accuracy: 0.6038\n",
      "Epoch 10/10\n",
      "1903/1903 [==============================] - 103s 54ms/step - loss: 1.0162 - sparse_categorical_accuracy: 0.6048 - val_loss: 0.9598 - val_sparse_categorical_accuracy: 0.5849\n"
     ]
    }
   ],
   "source": [
    "model.compile(loss='sparse_categorical_crossentropy', optimizer='adam', metrics=['sparse_categorical_accuracy'])\n",
    "history_RNN5=model.fit(X_train_valid,y_train_valid,epochs=10,batch_size=200,verbose=1,validation_split = 0.1)"
   ]
  },
  {
   "cell_type": "code",
   "execution_count": 304,
   "metadata": {},
   "outputs": [
    {
     "name": "stdout",
     "output_type": "stream",
     "text": [
      "443/443 [==============================] - 9s 20ms/step\n",
      "['loss', 'sparse_categorical_accuracy'] [1.0206193251211542, 0.5598194129580031]\n"
     ]
    }
   ],
   "source": [
    "RNN5_evaluate=model.evaluate(X_test,y_test)\n",
    "print model.metrics_names,RNN5_evaluate\n",
    "RNN_model5=model"
   ]
  },
  {
   "cell_type": "code",
   "execution_count": 305,
   "metadata": {},
   "outputs": [],
   "source": [
    "model = Sequential()\n",
    "lstm = LSTM(units=100,use_bias=False,return_sequences=True,dropout=0.5)\n",
    "# model.add(Dropout(0.5))\n",
    "model.add(LSTM(units=100,use_bias=False,return_sequences=True,input_shape=(1000,22)))\n",
    "model.add(lstm)\n",
    "model.add(lstm)\n",
    "model.add(lstm)\n",
    "model.add(lstm)\n",
    "# print model.output_shape\n",
    "model.add(Dense(units=100,use_bias=True,activation='relu'))\n",
    "model.add(Dropout(0.5))\n",
    "model.add(Flatten())\n",
    "model.add(Dense(units=4,use_bias=True,activation='softmax'))"
   ]
  },
  {
   "cell_type": "code",
   "execution_count": null,
   "metadata": {
    "scrolled": false
   },
   "outputs": [
    {
     "name": "stdout",
     "output_type": "stream",
     "text": [
      "Train on 1903 samples, validate on 212 samples\n",
      "Epoch 1/20\n",
      "1903/1903 [==============================] - 324s 170ms/step - loss: 1.3883 - sparse_categorical_accuracy: 0.2638 - val_loss: 1.3854 - val_sparse_categorical_accuracy: 0.2689\n",
      "Epoch 2/20\n",
      "1903/1903 [==============================] - 303s 159ms/step - loss: 1.3842 - sparse_categorical_accuracy: 0.2643 - val_loss: 1.3810 - val_sparse_categorical_accuracy: 0.3538\n",
      "Epoch 3/20\n",
      "1903/1903 [==============================] - 299s 157ms/step - loss: 1.3637 - sparse_categorical_accuracy: 0.3379 - val_loss: 1.3061 - val_sparse_categorical_accuracy: 0.4009\n",
      "Epoch 4/20\n",
      "1903/1903 [==============================] - 359s 189ms/step - loss: 1.2576 - sparse_categorical_accuracy: 0.4430 - val_loss: 1.1351 - val_sparse_categorical_accuracy: 0.4811\n",
      "Epoch 5/20\n",
      "1903/1903 [==============================] - 346s 182ms/step - loss: 1.1490 - sparse_categorical_accuracy: 0.5102 - val_loss: 1.0310 - val_sparse_categorical_accuracy: 0.5849\n",
      "Epoch 6/20\n",
      "1903/1903 [==============================] - 441s 232ms/step - loss: 1.0663 - sparse_categorical_accuracy: 0.5617 - val_loss: 1.0014 - val_sparse_categorical_accuracy: 0.5519\n",
      "Epoch 7/20\n",
      "1903/1903 [==============================] - 349s 184ms/step - loss: 1.0116 - sparse_categorical_accuracy: 0.6001 - val_loss: 0.9418 - val_sparse_categorical_accuracy: 0.6085\n",
      "Epoch 8/20\n",
      "1903/1903 [==============================] - 333s 175ms/step - loss: 0.9553 - sparse_categorical_accuracy: 0.6343 - val_loss: 0.9354 - val_sparse_categorical_accuracy: 0.6321\n",
      "Epoch 9/20\n",
      "1903/1903 [==============================] - 285s 150ms/step - loss: 0.9072 - sparse_categorical_accuracy: 0.6621 - val_loss: 0.9226 - val_sparse_categorical_accuracy: 0.6132\n",
      "Epoch 10/20\n",
      "1903/1903 [==============================] - 286s 150ms/step - loss: 0.8630 - sparse_categorical_accuracy: 0.6758 - val_loss: 0.9494 - val_sparse_categorical_accuracy: 0.6132\n",
      "Epoch 11/20\n",
      "1903/1903 [==============================] - 283s 149ms/step - loss: 0.8283 - sparse_categorical_accuracy: 0.6873 - val_loss: 0.9324 - val_sparse_categorical_accuracy: 0.6132\n",
      "Epoch 12/20\n",
      "1903/1903 [==============================] - 284s 149ms/step - loss: 0.8064 - sparse_categorical_accuracy: 0.6905 - val_loss: 0.9026 - val_sparse_categorical_accuracy: 0.6368\n",
      "Epoch 13/20\n",
      "1903/1903 [==============================] - 281s 148ms/step - loss: 0.7791 - sparse_categorical_accuracy: 0.7052 - val_loss: 0.9601 - val_sparse_categorical_accuracy: 0.6321\n",
      "Epoch 14/20\n",
      "1903/1903 [==============================] - 321s 169ms/step - loss: 0.7785 - sparse_categorical_accuracy: 0.7057 - val_loss: 0.8963 - val_sparse_categorical_accuracy: 0.6179\n",
      "Epoch 15/20\n",
      "1903/1903 [==============================] - 321s 168ms/step - loss: 0.6635 - sparse_categorical_accuracy: 0.7593 - val_loss: 1.1401 - val_sparse_categorical_accuracy: 0.6132\n",
      "Epoch 16/20\n",
      "1000/1903 [==============>...............] - ETA: 2:36 - loss: 0.6638 - sparse_categorical_accuracy: 0.7430"
     ]
    }
   ],
   "source": [
    "model.compile(loss='sparse_categorical_crossentropy', optimizer='adam', metrics=['sparse_categorical_accuracy'])\n",
    "history_RNN6=model.fit(X_train_valid,y_train_valid,epochs=20,batch_size=200,verbose=1,validation_split = 0.1)"
   ]
  },
  {
   "cell_type": "code",
   "execution_count": null,
   "metadata": {},
   "outputs": [],
   "source": [
    "RNN6_evaluate=model.evaluate(X_test,y_test)\n",
    "print model.metrics_names,RNN6_evaluate\n",
    "RNN_model6=model"
   ]
  },
  {
   "cell_type": "code",
   "execution_count": null,
   "metadata": {},
   "outputs": [],
   "source": []
  }
 ],
 "metadata": {
  "kernelspec": {
   "display_name": "Python 2",
   "language": "python",
   "name": "python2"
  },
  "language_info": {
   "codemirror_mode": {
    "name": "ipython",
    "version": 2
   },
   "file_extension": ".py",
   "mimetype": "text/x-python",
   "name": "python",
   "nbconvert_exporter": "python",
   "pygments_lexer": "ipython2",
   "version": "2.7.15"
  }
 },
 "nbformat": 4,
 "nbformat_minor": 2
}
